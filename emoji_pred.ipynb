{
  "nbformat": 4,
  "nbformat_minor": 0,
  "metadata": {
    "colab": {
      "provenance": [],
      "authorship_tag": "ABX9TyNVGZQL2CQ2vKx/qDUjo/Q6",
      "include_colab_link": true
    },
    "kernelspec": {
      "name": "python3",
      "display_name": "Python 3"
    },
    "language_info": {
      "name": "python"
    },
    "accelerator": "GPU",
    "gpuClass": "standard"
  },
  "cells": [
    {
      "cell_type": "markdown",
      "metadata": {
        "id": "view-in-github",
        "colab_type": "text"
      },
      "source": [
        "<a href=\"https://colab.research.google.com/github/naveenvarma600/Emoji-Predictor/blob/main/emoji_pred.ipynb\" target=\"_parent\"><img src=\"https://colab.research.google.com/assets/colab-badge.svg\" alt=\"Open In Colab\"/></a>"
      ]
    },
    {
      "cell_type": "code",
      "source": [
        "!pip install emoji"
      ],
      "metadata": {
        "colab": {
          "base_uri": "https://localhost:8080/"
        },
        "id": "hYP3TyAJjb94",
        "outputId": "63bacf6e-d5ce-4985-caf2-ca9724888ccf"
      },
      "execution_count": 8,
      "outputs": [
        {
          "output_type": "stream",
          "name": "stdout",
          "text": [
            "Looking in indexes: https://pypi.org/simple, https://us-python.pkg.dev/colab-wheels/public/simple/\n",
            "Requirement already satisfied: emoji in /usr/local/lib/python3.8/dist-packages (2.2.0)\n"
          ]
        }
      ]
    },
    {
      "cell_type": "code",
      "execution_count": 9,
      "metadata": {
        "id": "zLl7y5qSjMuF"
      },
      "outputs": [],
      "source": [
        "import numpy as np\n",
        "import pandas as pd\n",
        "import emoji as emoji\n",
        "import tensorflow\n",
        "from tensorflow.keras.utils import to_categorical\n",
        "from tensorflow.python.keras.layers import *\n",
        "from tensorflow.python.keras.models import Sequential"
      ]
    },
    {
      "cell_type": "code",
      "source": [
        "emoji_dictionary = {\"0\": \"\\u2764\\uFE0F\",\n",
        "                    \"1\": \":baseball:\",\n",
        "                    \"2\": \":beaming_face_with_smiling_eyes:\",\n",
        "                    \"3\": \":downcast_face_with_sweat:\",\n",
        "                    \"4\": \":fork_and_knife:\",\n",
        "                    \"5\": \":hundred_points:\",\n",
        "                    \"6\": \":fire:\",\n",
        "                    \"7\": \":face_blowing_a_kiss:\",\n",
        "                    \"8\": \":chestnut:\",\n",
        "                    \"9\": \":flexed_biceps:\",\n",
        "                    \"10\": \":grinning_face:\",\n",
        "                   }"
      ],
      "metadata": {
        "id": "P7WpUHlCjZK4"
      },
      "execution_count": 10,
      "outputs": []
    },
    {
      "cell_type": "code",
      "source": [
        "train = pd.read_csv('train_emoji.csv',header=None)\n",
        "test = pd.read_csv('test_emoji.csv',header=None)"
      ],
      "metadata": {
        "id": "XUzcARm6je5A"
      },
      "execution_count": 11,
      "outputs": []
    },
    {
      "cell_type": "code",
      "source": [
        "embeddings = {}\n",
        "with open('glove.6B.50d.txt',encoding='utf-8') as f:\n",
        "    for line in f:\n",
        "        values = line.split()\n",
        "        word = values[0]\n",
        "        coeffs = np.asarray(values[1:],dtype='float')\n",
        "        embeddings[word] = coeffs"
      ],
      "metadata": {
        "id": "NxhKb4LMjlGA"
      },
      "execution_count": 12,
      "outputs": []
    },
    {
      "cell_type": "code",
      "source": [
        "X_train = train[0]\n",
        "X_test = test[0]\n",
        "\n",
        "Y_train = to_categorical(train[1])\n",
        "Y_test = to_categorical(test[1])"
      ],
      "metadata": {
        "id": "sVyvpPSVjnmw"
      },
      "execution_count": 13,
      "outputs": []
    },
    {
      "cell_type": "code",
      "source": [
        "def getOutputEmbeddings(X):\n",
        "    embedding_matrix_output = np.zeros((X.shape[0], 10, 50))\n",
        "    for ix in range(X.shape[0]):\n",
        "        X[ix] = X[ix].split()\n",
        "        for jx in range(len(X[ix])):\n",
        "            embedding_matrix_output[ix][jx] = embeddings[X[ix][jx].lower()]\n",
        "    return embedding_matrix_output"
      ],
      "metadata": {
        "id": "aeM5i-VFjpKj"
      },
      "execution_count": 14,
      "outputs": []
    },
    {
      "cell_type": "code",
      "source": [
        "emb_X_train = getOutputEmbeddings(X_train)\n",
        "emb_X_test = getOutputEmbeddings(X_test)"
      ],
      "metadata": {
        "colab": {
          "base_uri": "https://localhost:8080/"
        },
        "id": "O7RhRfAQjrLo",
        "outputId": "8d47e391-9168-4b77-96a2-a5a1a1806516"
      },
      "execution_count": 15,
      "outputs": [
        {
          "output_type": "stream",
          "name": "stderr",
          "text": [
            "<ipython-input-14-a7f1573e6e76>:4: SettingWithCopyWarning: \n",
            "A value is trying to be set on a copy of a slice from a DataFrame\n",
            "\n",
            "See the caveats in the documentation: https://pandas.pydata.org/pandas-docs/stable/user_guide/indexing.html#returning-a-view-versus-a-copy\n",
            "  X[ix] = X[ix].split()\n"
          ]
        }
      ]
    },
    {
      "cell_type": "code",
      "source": [
        "model = Sequential()\n",
        "model.add(LSTM(64,input_shape=(10,50),return_sequences=True))\n",
        "model.add(Dropout(0.4))\n",
        "model.add(LSTM(64,input_shape=(10,50)))\n",
        "model.add(Dropout(0.3))\n",
        "model.add(Dense(5))\n",
        "model.add(Activation('softmax'))\n",
        "model.summary()"
      ],
      "metadata": {
        "colab": {
          "base_uri": "https://localhost:8080/"
        },
        "id": "H0YoD1ZZju_Y",
        "outputId": "ce0fad63-3935-49bc-e9d1-9d355bf60e65"
      },
      "execution_count": 16,
      "outputs": [
        {
          "output_type": "stream",
          "name": "stdout",
          "text": [
            "Model: \"sequential\"\n",
            "_________________________________________________________________\n",
            "Layer (type)                 Output Shape              Param #   \n",
            "=================================================================\n",
            "lstm (LSTM)                  (None, 10, 64)            29440     \n",
            "_________________________________________________________________\n",
            "dropout (Dropout)            (None, 10, 64)            0         \n",
            "_________________________________________________________________\n",
            "lstm_1 (LSTM)                (None, 64)                33024     \n",
            "_________________________________________________________________\n",
            "dropout_1 (Dropout)          (None, 64)                0         \n",
            "_________________________________________________________________\n",
            "dense (Dense)                (None, 5)                 325       \n",
            "_________________________________________________________________\n",
            "activation (Activation)      (None, 5)                 0         \n",
            "=================================================================\n",
            "Total params: 62,789\n",
            "Trainable params: 62,789\n",
            "Non-trainable params: 0\n",
            "_________________________________________________________________\n"
          ]
        }
      ]
    },
    {
      "cell_type": "code",
      "source": [
        "model.compile(optimizer='adam',loss='categorical_crossentropy',metrics=['acc'])\n",
        "model.fit(emb_X_train,Y_train,batch_size=32,epochs=40,shuffle=True,validation_split=0.1)"
      ],
      "metadata": {
        "colab": {
          "base_uri": "https://localhost:8080/"
        },
        "id": "r000hqP3jvZc",
        "outputId": "fae792da-98ac-4822-a9c5-87839dc4f24f"
      },
      "execution_count": 17,
      "outputs": [
        {
          "output_type": "stream",
          "name": "stdout",
          "text": [
            "Epoch 1/40\n",
            "4/4 [==============================] - 6s 307ms/step - loss: 1.6235 - acc: 0.1949 - val_loss: 1.6005 - val_acc: 0.1429\n",
            "Epoch 2/40\n",
            "4/4 [==============================] - 0s 58ms/step - loss: 1.5592 - acc: 0.3898 - val_loss: 1.6067 - val_acc: 0.1429\n",
            "Epoch 3/40\n",
            "4/4 [==============================] - 0s 42ms/step - loss: 1.5186 - acc: 0.3644 - val_loss: 1.6290 - val_acc: 0.0714\n",
            "Epoch 4/40\n",
            "4/4 [==============================] - 0s 53ms/step - loss: 1.4796 - acc: 0.3729 - val_loss: 1.6355 - val_acc: 0.1429\n",
            "Epoch 5/40\n",
            "4/4 [==============================] - 0s 39ms/step - loss: 1.4383 - acc: 0.3814 - val_loss: 1.6110 - val_acc: 0.2143\n",
            "Epoch 6/40\n",
            "4/4 [==============================] - 0s 69ms/step - loss: 1.4007 - acc: 0.4407 - val_loss: 1.5468 - val_acc: 0.2857\n",
            "Epoch 7/40\n",
            "4/4 [==============================] - 0s 49ms/step - loss: 1.3427 - acc: 0.5000 - val_loss: 1.4631 - val_acc: 0.3571\n",
            "Epoch 8/40\n",
            "4/4 [==============================] - 0s 48ms/step - loss: 1.2641 - acc: 0.5678 - val_loss: 1.4080 - val_acc: 0.4286\n",
            "Epoch 9/40\n",
            "4/4 [==============================] - 0s 55ms/step - loss: 1.1612 - acc: 0.5763 - val_loss: 1.3628 - val_acc: 0.4286\n",
            "Epoch 10/40\n",
            "4/4 [==============================] - 0s 38ms/step - loss: 1.0514 - acc: 0.6017 - val_loss: 1.3091 - val_acc: 0.5000\n",
            "Epoch 11/40\n",
            "4/4 [==============================] - 0s 60ms/step - loss: 0.9704 - acc: 0.6271 - val_loss: 1.3447 - val_acc: 0.5000\n",
            "Epoch 12/40\n",
            "4/4 [==============================] - 0s 42ms/step - loss: 0.8542 - acc: 0.6525 - val_loss: 1.0864 - val_acc: 0.5000\n",
            "Epoch 13/40\n",
            "4/4 [==============================] - 0s 45ms/step - loss: 0.7774 - acc: 0.7034 - val_loss: 1.2056 - val_acc: 0.5714\n",
            "Epoch 14/40\n",
            "4/4 [==============================] - 0s 44ms/step - loss: 0.6409 - acc: 0.7881 - val_loss: 1.2940 - val_acc: 0.5000\n",
            "Epoch 15/40\n",
            "4/4 [==============================] - 0s 37ms/step - loss: 0.5828 - acc: 0.8559 - val_loss: 0.8139 - val_acc: 0.6429\n",
            "Epoch 16/40\n",
            "4/4 [==============================] - 0s 46ms/step - loss: 0.5257 - acc: 0.8390 - val_loss: 1.2377 - val_acc: 0.5714\n",
            "Epoch 17/40\n",
            "4/4 [==============================] - 0s 50ms/step - loss: 0.4848 - acc: 0.8475 - val_loss: 0.8417 - val_acc: 0.7143\n",
            "Epoch 18/40\n",
            "4/4 [==============================] - 0s 42ms/step - loss: 0.3883 - acc: 0.8898 - val_loss: 0.9566 - val_acc: 0.6429\n",
            "Epoch 19/40\n",
            "4/4 [==============================] - 0s 38ms/step - loss: 0.3707 - acc: 0.8644 - val_loss: 0.6976 - val_acc: 0.7143\n",
            "Epoch 20/40\n",
            "4/4 [==============================] - 0s 39ms/step - loss: 0.3988 - acc: 0.8729 - val_loss: 1.0820 - val_acc: 0.6429\n",
            "Epoch 21/40\n",
            "4/4 [==============================] - 0s 36ms/step - loss: 0.2957 - acc: 0.9153 - val_loss: 0.8039 - val_acc: 0.7143\n",
            "Epoch 22/40\n",
            "4/4 [==============================] - 0s 47ms/step - loss: 0.2842 - acc: 0.9068 - val_loss: 1.0413 - val_acc: 0.6429\n",
            "Epoch 23/40\n",
            "4/4 [==============================] - 0s 43ms/step - loss: 0.2637 - acc: 0.9068 - val_loss: 0.9283 - val_acc: 0.6429\n",
            "Epoch 24/40\n",
            "4/4 [==============================] - 0s 37ms/step - loss: 0.2228 - acc: 0.9237 - val_loss: 0.5306 - val_acc: 0.7857\n",
            "Epoch 25/40\n",
            "4/4 [==============================] - 0s 52ms/step - loss: 0.2357 - acc: 0.9237 - val_loss: 0.9474 - val_acc: 0.6429\n",
            "Epoch 26/40\n",
            "4/4 [==============================] - 0s 37ms/step - loss: 0.2036 - acc: 0.9068 - val_loss: 0.8976 - val_acc: 0.7857\n",
            "Epoch 27/40\n",
            "4/4 [==============================] - 0s 44ms/step - loss: 0.1916 - acc: 0.9492 - val_loss: 0.6682 - val_acc: 0.7857\n",
            "Epoch 28/40\n",
            "4/4 [==============================] - 0s 38ms/step - loss: 0.1662 - acc: 0.9407 - val_loss: 1.1241 - val_acc: 0.6429\n",
            "Epoch 29/40\n",
            "4/4 [==============================] - 0s 67ms/step - loss: 0.2789 - acc: 0.8814 - val_loss: 0.8045 - val_acc: 0.7857\n",
            "Epoch 30/40\n",
            "4/4 [==============================] - 0s 47ms/step - loss: 0.1706 - acc: 0.9322 - val_loss: 0.8504 - val_acc: 0.7857\n",
            "Epoch 31/40\n",
            "4/4 [==============================] - 0s 66ms/step - loss: 0.1291 - acc: 0.9576 - val_loss: 0.5824 - val_acc: 0.7857\n",
            "Epoch 32/40\n",
            "4/4 [==============================] - 0s 36ms/step - loss: 0.1050 - acc: 0.9492 - val_loss: 0.9300 - val_acc: 0.6429\n",
            "Epoch 33/40\n",
            "4/4 [==============================] - 0s 36ms/step - loss: 0.0936 - acc: 0.9661 - val_loss: 1.0727 - val_acc: 0.6429\n",
            "Epoch 34/40\n",
            "4/4 [==============================] - 0s 37ms/step - loss: 0.0643 - acc: 0.9831 - val_loss: 0.6845 - val_acc: 0.7857\n",
            "Epoch 35/40\n",
            "4/4 [==============================] - 0s 42ms/step - loss: 0.0698 - acc: 0.9915 - val_loss: 0.7975 - val_acc: 0.7857\n",
            "Epoch 36/40\n",
            "4/4 [==============================] - 0s 54ms/step - loss: 0.0570 - acc: 0.9915 - val_loss: 0.9009 - val_acc: 0.7857\n",
            "Epoch 37/40\n",
            "4/4 [==============================] - 0s 41ms/step - loss: 0.0569 - acc: 0.9915 - val_loss: 0.8347 - val_acc: 0.7857\n",
            "Epoch 38/40\n",
            "4/4 [==============================] - 0s 35ms/step - loss: 0.0679 - acc: 0.9831 - val_loss: 0.9815 - val_acc: 0.7857\n",
            "Epoch 39/40\n",
            "4/4 [==============================] - 0s 50ms/step - loss: 0.0552 - acc: 0.9915 - val_loss: 0.6231 - val_acc: 0.9286\n",
            "Epoch 40/40\n",
            "4/4 [==============================] - 0s 48ms/step - loss: 0.0682 - acc: 0.9746 - val_loss: 0.8898 - val_acc: 0.8571\n"
          ]
        },
        {
          "output_type": "execute_result",
          "data": {
            "text/plain": [
              "<tensorflow.python.keras.callbacks.History at 0x7f36efa10f70>"
            ]
          },
          "metadata": {},
          "execution_count": 17
        }
      ]
    },
    {
      "cell_type": "code",
      "source": [
        "model.evaluate(emb_X_test,Y_test)"
      ],
      "metadata": {
        "colab": {
          "base_uri": "https://localhost:8080/"
        },
        "id": "24FNqMInjxBg",
        "outputId": "949d93df-89b1-4eac-937a-b2b9c233e2f2"
      },
      "execution_count": 18,
      "outputs": [
        {
          "output_type": "stream",
          "name": "stdout",
          "text": [
            "2/2 [==============================] - 0s 9ms/step - loss: 1.9006 - acc: 0.6250\n"
          ]
        },
        {
          "output_type": "execute_result",
          "data": {
            "text/plain": [
              "[1.9006394147872925, 0.625]"
            ]
          },
          "metadata": {},
          "execution_count": 18
        }
      ]
    },
    {
      "cell_type": "code",
      "source": [
        "pred = model.predict_classes(emb_X_test)\n",
        "for i in range(10):\n",
        "    print(''.join(X_test[i]))\n",
        "    print(emoji.emojize(emoji_dictionary[str(np.argmax(Y_test[i]))]))\n",
        "    print(emoji.emojize(emoji_dictionary[str(pred[i])]))"
      ],
      "metadata": {
        "colab": {
          "base_uri": "https://localhost:8080/"
        },
        "id": "Tbw0YUkRjydo",
        "outputId": "e7d87695-4176-471e-b0df-fa4f3f58f3e9"
      },
      "execution_count": 19,
      "outputs": [
        {
          "output_type": "stream",
          "name": "stderr",
          "text": [
            "/usr/local/lib/python3.8/dist-packages/tensorflow/python/keras/engine/sequential.py:454: UserWarning: `model.predict_classes()` is deprecated and will be removed after 2021-01-01. Please use instead:* `np.argmax(model.predict(x), axis=-1)`,   if your model does multi-class classification   (e.g. if it uses a `softmax` last-layer activation).* `(model.predict(x) > 0.5).astype(\"int32\")`,   if your model does binary classification   (e.g. if it uses a `sigmoid` last-layer activation).\n",
            "  warnings.warn('`model.predict_classes()` is deprecated and '\n"
          ]
        },
        {
          "output_type": "stream",
          "name": "stdout",
          "text": [
            "Iwanttoeat\n",
            "🍴\n",
            "🍴\n",
            "hedidnotanswer\n",
            "😓\n",
            "😓\n",
            "hegotaraise\n",
            "😁\n",
            "😁\n",
            "shegotmeapresent\n",
            "❤️\n",
            "😁\n",
            "hahahaitwassofunny\n",
            "😁\n",
            "😁\n",
            "heisagoodfriend\n",
            "❤️\n",
            "😁\n",
            "Iamupset\n",
            "❤️\n",
            "😓\n",
            "Wehadsuchalovelydinnertonight\n",
            "❤️\n",
            "😁\n",
            "whereisthefood\n",
            "🍴\n",
            "🍴\n",
            "Stopmakingthisjokehahaha\n",
            "😁\n",
            "😁\n"
          ]
        }
      ]
    }
  ]
}